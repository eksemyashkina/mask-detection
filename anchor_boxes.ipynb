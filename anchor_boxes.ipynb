{
 "cells": [
  {
   "cell_type": "code",
   "execution_count": 1,
   "metadata": {},
   "outputs": [],
   "source": [
    "import numpy as np\n",
    "from sklearn.cluster import KMeans\n",
    "from bs4 import BeautifulSoup\n",
    "from pathlib import Path\n",
    "import PIL.Image"
   ]
  },
  {
   "cell_type": "code",
   "execution_count": 2,
   "metadata": {},
   "outputs": [],
   "source": [
    "images = sorted(list(Path(\"data/masks/images\").glob(\"**/*.png\")))\n",
    "masks = sorted(list(Path(\"data/masks/annotations\").glob(\"**/*.xml\")))"
   ]
  },
  {
   "cell_type": "code",
   "execution_count": 3,
   "metadata": {},
   "outputs": [
    {
     "data": {
      "text/plain": [
       "4072"
      ]
     },
     "execution_count": 3,
     "metadata": {},
     "output_type": "execute_result"
    }
   ],
   "source": [
    "boxes = []\n",
    "target_w, target_h = (416, 416)\n",
    "for image, mask in zip(images, masks):\n",
    "    image = PIL.Image.open(image).convert(\"RGB\")\n",
    "    orig_w, orig_h = image.size\n",
    "    scale = min(target_w / orig_w, target_h / orig_h)\n",
    "    new_w = int(orig_w * scale)\n",
    "    new_h = int(orig_h * scale)\n",
    "    pad_x = (target_w - new_w) // 2\n",
    "    pad_y = (target_h - new_h) // 2\n",
    "    with open(mask, \"r\") as f:\n",
    "        data = f.read()\n",
    "        soup = BeautifulSoup(data, \"lxml\")\n",
    "        objects = soup.find_all(\"object\")\n",
    "    for obj in objects:\n",
    "        xmin = int(obj.find(\"xmin\").text)\n",
    "        ymin = int(obj.find(\"ymin\").text)\n",
    "        xmax = int(obj.find(\"xmax\").text)\n",
    "        ymax = int(obj.find(\"ymax\").text)\n",
    "        xmin = int(xmin * scale + pad_x)\n",
    "        ymin = int(ymin * scale + pad_y)\n",
    "        xmax = int(xmax * scale + pad_x)\n",
    "        ymax = int(ymax * scale + pad_y)\n",
    "        box_w = xmax - xmin\n",
    "        box_h = ymax - ymin\n",
    "        if box_w > 0 and box_h > 0:\n",
    "                boxes.append((box_w, box_h))\n",
    "len(boxes)"
   ]
  },
  {
   "cell_type": "code",
   "execution_count": 4,
   "metadata": {},
   "outputs": [
    {
     "data": {
      "text/plain": [
       "array([[ 17,  19],\n",
       "       [128, 152],\n",
       "       [ 55,  59],\n",
       "       [ 78,  88],\n",
       "       [ 26,  28],\n",
       "       [ 37,  42],\n",
       "       [182, 205],\n",
       "       [ 10,  11],\n",
       "       [103, 124]])"
      ]
     },
     "execution_count": 4,
     "metadata": {},
     "output_type": "execute_result"
    }
   ],
   "source": [
    "boxes = np.array(boxes)\n",
    "kmeans = KMeans(n_clusters=9, init=\"k-means++\", max_iter=300, random_state=42)\n",
    "kmeans.fit(boxes)\n",
    "anchors = kmeans.cluster_centers_\n",
    "anchors = np.round(anchors).astype(int)\n",
    "anchors"
   ]
  },
  {
   "cell_type": "code",
   "execution_count": 5,
   "metadata": {},
   "outputs": [
    {
     "data": {
      "text/plain": [
       "(24, 30)"
      ]
     },
     "execution_count": 5,
     "metadata": {},
     "output_type": "execute_result"
    }
   ],
   "source": [
    "boxes[0]"
   ]
  },
  {
   "cell_type": "code",
   "execution_count": 8,
   "metadata": {},
   "outputs": [
    {
     "data": {
      "text/plain": [
       "array([[ 9, 10],\n",
       "       [26, 28],\n",
       "       [17, 19]])"
      ]
     },
     "execution_count": 8,
     "metadata": {},
     "output_type": "execute_result"
    }
   ],
   "source": [
    "small_boxes = [box for box in boxes if box[0]*box[1] < 1024]\n",
    "kmeans = KMeans(n_clusters=3).fit(small_boxes)\n",
    "anchors_small = kmeans.cluster_centers_\n",
    "anchors_small = np.round(anchors_small).astype(int)\n",
    "anchors_small"
   ]
  },
  {
   "cell_type": "code",
   "execution_count": null,
   "metadata": {},
   "outputs": [],
   "source": []
  }
 ],
 "metadata": {
  "kernelspec": {
   "display_name": "venv",
   "language": "python",
   "name": "python3"
  },
  "language_info": {
   "codemirror_mode": {
    "name": "ipython",
    "version": 3
   },
   "file_extension": ".py",
   "mimetype": "text/x-python",
   "name": "python",
   "nbconvert_exporter": "python",
   "pygments_lexer": "ipython3",
   "version": "3.12.7"
  }
 },
 "nbformat": 4,
 "nbformat_minor": 2
}
